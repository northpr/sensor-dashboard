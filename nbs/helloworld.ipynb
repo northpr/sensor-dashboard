{
 "cells": [
  {
   "cell_type": "code",
   "execution_count": null,
   "id": "073ec5f8",
   "metadata": {},
   "outputs": [],
   "source": [
    "#default_exp helloworld_example"
   ]
  },
  {
   "cell_type": "code",
   "execution_count": null,
   "id": "37fe5510-3561-42f1-81f7-10f39fcf4917",
   "metadata": {},
   "outputs": [
    {
     "name": "stdout",
     "output_type": "stream",
     "text": [
      "hello world\n"
     ]
    }
   ],
   "source": [
    "#export\n",
    "def hello_world():\n",
    "    print(\"Hello World!\")\n",
    "\n",
    "hello_world()"
   ]
  },
  {
   "cell_type": "code",
   "execution_count": null,
   "id": "33047289-e7e2-4542-8eca-7b5fbae0f1c2",
   "metadata": {},
   "outputs": [],
   "source": []
  }
 ],
 "metadata": {
  "kernelspec": {
   "display_name": "Python 3 (ipykernel)",
   "language": "python",
   "name": "python3"
  }
 },
 "nbformat": 4,
 "nbformat_minor": 5
}
